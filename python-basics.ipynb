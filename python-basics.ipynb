{
 "cells": [
  {
   "cell_type": "markdown",
   "metadata": {},
   "source": [
    "# Why you should use Jupyter Notebook?\n",
    "- Interactive \n",
    "- Execute code or markdown in the same page \n",
    "- Visualize data in a very simple and efficient manner  \n",
    "* Easy to learn syntax  \n",
    "* Best way to describe a project"
   ]
  },
  {
   "cell_type": "markdown",
   "metadata": {},
   "source": [
    "# Why Python ? \n",
    "Python is a high-level language means that it has easy to understand syntax, and overall it is one of the best languages for beginners wanting to start their programming journey.\n",
    "\n",
    "Python has been gaining popularity in the last few years and it has been at the top of the charts for being the most learned languaes for few years now. \n",
    "\n",
    "Python has a wide variety of high end library support which in turn generates a huge potential of application in various fields like web devlopment, game devlopment, data science etc.\n",
    "\n",
    "But we're gonna be learning python mainly for Machine learning, and this is important to note because you won't need indepth knowledge of python for machine learning, ofcourse it isn't the same if you wanna become a python developer.\n",
    "\n",
    "\n",
    "### Why python is best for Machine Learning?\n",
    "1. Python is easy to use/ Easy to learn\n",
    "2. Shorter source code \n",
    "3. Multiple Libraries like : Numpy , Pandas , matplotlb , seaborn, scikit-lern, pyTorch , Tensorflow , Keras etc.\n",
    "4. Community support"
   ]
  },
  {
   "cell_type": "markdown",
   "metadata": {},
   "source": [
    "# 1. Variables And DataTypes\n",
    "\n",
    "Python has the following data types : \n",
    "- Integer \n",
    "- Float \n",
    "- String \n",
    "- Boolean\n",
    "\n",
    "We'll be using an inbuilt function i.e type() to find the types of data types used."
   ]
  },
  {
   "cell_type": "code",
   "execution_count": 3,
   "metadata": {},
   "outputs": [
    {
     "data": {
      "text/plain": [
       "int"
      ]
     },
     "execution_count": 3,
     "metadata": {},
     "output_type": "execute_result"
    }
   ],
   "source": [
    "type(1)"
   ]
  },
  {
   "cell_type": "code",
   "execution_count": 4,
   "metadata": {},
   "outputs": [
    {
     "data": {
      "text/plain": [
       "(int, float, str, str, str, bool)"
      ]
     },
     "execution_count": 4,
     "metadata": {},
     "output_type": "execute_result"
    }
   ],
   "source": [
    "type(1) , type(1.0) , type('I'), type('I am ') , type('32425'), type(True) "
   ]
  },
  {
   "cell_type": "code",
   "execution_count": 8,
   "metadata": {},
   "outputs": [
    {
     "name": "stdout",
     "output_type": "stream",
     "text": [
      "I am out\n"
     ]
    }
   ],
   "source": [
    "# Now we will use the most used function and the most common built in fuction in python \n",
    "print('I am out')"
   ]
  },
  {
   "cell_type": "markdown",
   "metadata": {},
   "source": [
    "**Let's see how we can use print statement with a bit more formating**"
   ]
  },
  {
   "cell_type": "code",
   "execution_count": 20,
   "metadata": {},
   "outputs": [
    {
     "data": {
      "text/plain": [
       "(int, str, float, bool)"
      ]
     },
     "execution_count": 20,
     "metadata": {},
     "output_type": "execute_result"
    }
   ],
   "source": [
    "# variable assignment \n",
    "a = 16\n",
    "b = 'Name'\n",
    "c = 17.2020\n",
    "d = True\n",
    "\n",
    "type(a), type(b) , type(c) , type(d)"
   ]
  },
  {
   "cell_type": "code",
   "execution_count": 4,
   "metadata": {},
   "outputs": [
    {
     "name": "stdout",
     "output_type": "stream",
     "text": [
      "My name is Rajesh, I am a student and currently I am 12.0y/o .I like reading\n",
      "My name is Rajesh, I am a student and I like reading\n"
     ]
    }
   ],
   "source": [
    "name = 'Rajesh'\n",
    "job = 'student'\n",
    "hobby = 'reading'\n",
    "age = 12.0000\n",
    "\n",
    "print('My name is {}, I am a {} and currently I am {:.1f}y/o .I like {}'.format(name , job,age , hobby))\n",
    "\n",
    "print(\"My name is {first}, I am a {second} and I like {third}\".format(first= name , second = job, third =hobby))"
   ]
  },
  {
   "cell_type": "markdown",
   "metadata": {},
   "source": [
    "# 2. Logic and Boolean statements\n",
    "- Logical and/or\n",
    "- Conditional statements\n",
    "- Loops"
   ]
  },
  {
   "cell_type": "markdown",
   "metadata": {},
   "source": [
    "#### Logical and "
   ]
  },
  {
   "cell_type": "code",
   "execution_count": 26,
   "metadata": {
    "scrolled": true
   },
   "outputs": [
    {
     "name": "stdout",
     "output_type": "stream",
     "text": [
      "True\n",
      "False\n",
      "False\n",
      "False\n"
     ]
    }
   ],
   "source": [
    "print(True and True) # and - this thing and thing \n",
    "print(True and False)\n",
    "print(False and True)\n",
    "print(False and False)"
   ]
  },
  {
   "cell_type": "markdown",
   "metadata": {},
   "source": [
    "#### Logical OR"
   ]
  },
  {
   "cell_type": "code",
   "execution_count": 14,
   "metadata": {},
   "outputs": [
    {
     "name": "stdout",
     "output_type": "stream",
     "text": [
      "True\n",
      "True\n",
      "True\n",
      "False\n"
     ]
    }
   ],
   "source": [
    "print(True or True) # if you get a B+ or you get a a+ then you win \n",
    "print(True or False)\n",
    "print(False or True)\n",
    "print(False or False)"
   ]
  },
  {
   "cell_type": "markdown",
   "metadata": {},
   "source": [
    "### Some in-built functions for strings:"
   ]
  },
  {
   "cell_type": "code",
   "execution_count": 13,
   "metadata": {},
   "outputs": [
    {
     "name": "stdout",
     "output_type": "stream",
     "text": [
      "True\n",
      "True\n",
      "False\n"
     ]
    }
   ],
   "source": [
    "name = 'Yagyesh'\n",
    "\n",
    "print(name.isalnum()) # contains both alphabets and numerical values then True\n",
    "print(name.isalpha())\n",
    "print(name.isspace())"
   ]
  },
  {
   "cell_type": "code",
   "execution_count": 46,
   "metadata": {},
   "outputs": [
    {
     "name": "stdout",
     "output_type": "stream",
     "text": [
      "True\n",
      "False\n"
     ]
    },
    {
     "data": {
      "text/plain": [
       "False"
      ]
     },
     "execution_count": 46,
     "metadata": {},
     "output_type": "execute_result"
    }
   ],
   "source": [
    "str1 = '123123'\n",
    "str2 = 'Yagyesh '\n",
    "print(str1.isnumeric())\n",
    "print(str2.isalpha())\n",
    "\n",
    "str1.isnumeric() and str2.isalpha() # True and False"
   ]
  },
  {
   "cell_type": "markdown",
   "metadata": {},
   "source": [
    "### Conditional Statement\n",
    "This is a very useful method that you're going to end up using almost every time.\n",
    "\n",
    "if (condition) :  \n",
    "    statements"
   ]
  },
  {
   "cell_type": "code",
   "execution_count": 17,
   "metadata": {},
   "outputs": [
    {
     "name": "stdout",
     "output_type": "stream",
     "text": [
      "True\n"
     ]
    }
   ],
   "source": [
    "if (True) :\n",
    "    print('True')\n"
   ]
  },
  {
   "cell_type": "code",
   "execution_count": 24,
   "metadata": {},
   "outputs": [
    {
     "name": "stdout",
     "output_type": "stream",
     "text": [
      "the string contains only alpha values\n"
     ]
    }
   ],
   "source": [
    "str1 = 'Yagyesh'\n",
    "\n",
    "if (str1.isalpha()) :\n",
    "    print('the string contains only alpha values')\n",
    "else: \n",
    "    print('the string dosen\\' have only numeric values')"
   ]
  },
  {
   "cell_type": "code",
   "execution_count": 28,
   "metadata": {},
   "outputs": [
    {
     "name": "stdout",
     "output_type": "stream",
     "text": [
      "The input is greater than 10\n"
     ]
    }
   ],
   "source": [
    "# elif or else if \n",
    "num = 100\n",
    "\n",
    "if (num < 10) :\n",
    "    print('The input is less than 10')\n",
    "\n",
    "elif (num>10) :\n",
    "    print('The input is greater than 10')\n",
    "elif(num == 10) :\n",
    "    print('The input is equal to 10')\n",
    "#else :\n",
    "#   print('the input is equal to 10')"
   ]
  },
  {
   "cell_type": "markdown",
   "metadata": {},
   "source": [
    "### Looping \n",
    "- repeating a same thing number of times\n",
    "\n",
    "1. For loops"
   ]
  },
  {
   "cell_type": "code",
   "execution_count": 30,
   "metadata": {},
   "outputs": [
    {
     "name": "stdout",
     "output_type": "stream",
     "text": [
      "[0, 1, 2, 3, 4, 5, 6, 7, 8, 9]\n"
     ]
    }
   ],
   "source": [
    "print(list(range(10)))"
   ]
  },
  {
   "cell_type": "code",
   "execution_count": 36,
   "metadata": {},
   "outputs": [
    {
     "name": "stdout",
     "output_type": "stream",
     "text": [
      "0 1th loop\n",
      "1 2th loop\n",
      "2 3th loop\n",
      "3 4th loop\n",
      "4 5th loop\n",
      "5 6th loop\n",
      "6 7th loop\n",
      "7 8th loop\n",
      "8 9th loop\n",
      "9 10th loop\n"
     ]
    }
   ],
   "source": [
    "for i in range(10) :\n",
    "    print(i , end=' ')\n",
    "    print('{}th loop'.format(i + 1))"
   ]
  },
  {
   "cell_type": "markdown",
   "metadata": {},
   "source": [
    "### 2. While Loop\n",
    "\n",
    "while (condition) :  \n",
    "    statement 1  \n",
    "    statement 2   \n",
    "    ...  \n",
    "    statement n  "
   ]
  },
  {
   "cell_type": "code",
   "execution_count": 47,
   "metadata": {},
   "outputs": [
    {
     "name": "stdout",
     "output_type": "stream",
     "text": [
      "0\n",
      "1\n",
      "2\n",
      "3\n",
      "4\n"
     ]
    }
   ],
   "source": [
    "i=0\n",
    "while (i < 5):\n",
    "    print(i) \n",
    "    i+=1"
   ]
  },
  {
   "cell_type": "markdown",
   "metadata": {},
   "source": [
    "# 3. Python Data Structures\n",
    "- Lists\n",
    "- Comparison operators\n",
    "- Dictionaries\n",
    "- Tuples \n",
    "- Sets"
   ]
  },
  {
   "cell_type": "markdown",
   "metadata": {},
   "source": [
    "# Lists\n",
    "- Mutable \n",
    "- elements or objects or variables in a list are called **item**\n",
    "- They are defined by values enclosed within squared brackets **[]**"
   ]
  },
  {
   "cell_type": "code",
   "execution_count": 48,
   "metadata": {},
   "outputs": [
    {
     "name": "stdout",
     "output_type": "stream",
     "text": [
      "<class 'list'>\n",
      "<class 'list'>\n",
      "<class 'list'>\n"
     ]
    }
   ],
   "source": [
    "print(type([]))\n",
    "print(type([1, 2, 3]))\n",
    "print(type([1 , 2.0 ,'sakdfjl' , True]))"
   ]
  },
  {
   "cell_type": "markdown",
   "metadata": {},
   "source": [
    "#### Indexing And Parsing in lists\n",
    "\n",
    "![Title](https://www.google.com/imgres?imgurl=https%3A%2F%2Fwww.learnbyexample.org%2Fwp-content%2Fuploads%2Fpython%2FString-Indexing.png&imgrefurl=https%3A%2F%2Flaptrinhx.com%2Fwhat-is-the-string-in-python-1993338928%2F&tbnid=j3Ho-7YNIQHxhM&vet=10CAkQxiAoBmoXChMIoLO67Nua9AIVAAAAAB0AAAAAEAY..i&docid=ws4uDJEpl_nrEM&w=609&h=145&itg=1&q=indexing%20list%20in%20python&ved=0CAkQxiAoBmoXChMIoLO67Nua9AIVAAAAAB0AAAAAEAY)"
   ]
  },
  {
   "cell_type": "code",
   "execution_count": 78,
   "metadata": {},
   "outputs": [
    {
     "name": "stdout",
     "output_type": "stream",
     "text": [
      "p\n"
     ]
    }
   ],
   "source": [
    "ls1= ['p' , '1' , 1 , 'q' , True]\n",
    "\n",
    "print(ls1[0])"
   ]
  },
  {
   "cell_type": "code",
   "execution_count": 70,
   "metadata": {},
   "outputs": [
    {
     "data": {
      "text/plain": [
       "1"
      ]
     },
     "execution_count": 70,
     "metadata": {},
     "output_type": "execute_result"
    }
   ],
   "source": [
    "ls1[2]"
   ]
  },
  {
   "cell_type": "code",
   "execution_count": 71,
   "metadata": {},
   "outputs": [
    {
     "data": {
      "text/plain": [
       "(['p', '1', 1, 'q'], ['p', '1', 1, 'q', True])"
      ]
     },
     "execution_count": 71,
     "metadata": {},
     "output_type": "execute_result"
    }
   ],
   "source": [
    "ls1[0:4] , ls1[:]"
   ]
  },
  {
   "cell_type": "markdown",
   "metadata": {},
   "source": [
    "#### Some in-built functions for list"
   ]
  },
  {
   "cell_type": "code",
   "execution_count": 72,
   "metadata": {},
   "outputs": [
    {
     "name": "stdout",
     "output_type": "stream",
     "text": [
      "['p', '1', 1, 'q', True]\n",
      "['p', '1', 1, 'q', True, 's']\n"
     ]
    }
   ],
   "source": [
    "print(ls1)\n",
    "ls1.append('s')\n",
    "print(ls1)"
   ]
  },
  {
   "cell_type": "code",
   "execution_count": 79,
   "metadata": {},
   "outputs": [
    {
     "name": "stdout",
     "output_type": "stream",
     "text": [
      "['p', '1', 1, 'q', True]\n",
      "['p', '1', 1, 'q', True, ['s', 't']]\n",
      "['p', '1', 1, 'q', True, ['s', 't'], 's', 't']\n"
     ]
    }
   ],
   "source": [
    "print(ls1)\n",
    "ls1.append(['s' , 't'])\n",
    "print(ls1)\n",
    "ls1.extend(['s' , 't'])\n",
    "print(ls1)"
   ]
  },
  {
   "cell_type": "code",
   "execution_count": 82,
   "metadata": {},
   "outputs": [
    {
     "data": {
      "text/plain": [
       "['p', '1', 14, 1, 'q', True, ['s', 't'], 's', 't']"
      ]
     },
     "execution_count": 82,
     "metadata": {},
     "output_type": "execute_result"
    }
   ],
   "source": [
    "ls1.insert(2,14)\n",
    "ls1"
   ]
  },
  {
   "cell_type": "code",
   "execution_count": 83,
   "metadata": {},
   "outputs": [
    {
     "data": {
      "text/plain": [
       "['p', '1', 1, 'q', True, ['s', 't'], 's', 't']"
      ]
     },
     "execution_count": 83,
     "metadata": {},
     "output_type": "execute_result"
    }
   ],
   "source": [
    "ls1.pop(2) # pop will remove the last element if the index is not present\n",
    "ls1"
   ]
  },
  {
   "cell_type": "code",
   "execution_count": 84,
   "metadata": {},
   "outputs": [
    {
     "data": {
      "text/plain": [
       "2"
      ]
     },
     "execution_count": 84,
     "metadata": {},
     "output_type": "execute_result"
    }
   ],
   "source": [
    "ls1.count(1)"
   ]
  },
  {
   "cell_type": "code",
   "execution_count": 87,
   "metadata": {},
   "outputs": [
    {
     "data": {
      "text/plain": [
       "2"
      ]
     },
     "execution_count": 87,
     "metadata": {},
     "output_type": "execute_result"
    }
   ],
   "source": [
    "ls1.index(1 ,0,len(ls1))"
   ]
  },
  {
   "cell_type": "code",
   "execution_count": 88,
   "metadata": {},
   "outputs": [],
   "source": [
    "# min()\n",
    "# max()\n",
    "# sum()"
   ]
  },
  {
   "cell_type": "code",
   "execution_count": 90,
   "metadata": {},
   "outputs": [
    {
     "data": {
      "text/plain": [
       "['p',\n",
       " '1',\n",
       " 1,\n",
       " 'q',\n",
       " True,\n",
       " ['s', 't'],\n",
       " 's',\n",
       " 't',\n",
       " 'p',\n",
       " '1',\n",
       " 1,\n",
       " 'q',\n",
       " True,\n",
       " ['s', 't'],\n",
       " 's',\n",
       " 't']"
      ]
     },
     "execution_count": 90,
     "metadata": {},
     "output_type": "execute_result"
    }
   ],
   "source": [
    " ls1 * 2"
   ]
  },
  {
   "cell_type": "markdown",
   "metadata": {},
   "source": [
    "# Dictionaries\n",
    "- it is an unordered collection\n",
    "- comprises of **key-value pairs**\n",
    "- represented within curly braces"
   ]
  },
  {
   "cell_type": "code",
   "execution_count": 12,
   "metadata": {},
   "outputs": [
    {
     "data": {
      "text/plain": [
       "dict"
      ]
     },
     "execution_count": 12,
     "metadata": {},
     "output_type": "execute_result"
    }
   ],
   "source": [
    "dic = { 'name' : 'yagyesh' , 'age': 12 , 'hobby' : 'content creation'}\n",
    "type(dic)\n",
    "\n"
   ]
  },
  {
   "cell_type": "code",
   "execution_count": 52,
   "metadata": {},
   "outputs": [
    {
     "data": {
      "text/plain": [
       "{'name': 'yagyesh', 'age': 17, 'hobby': 'content creation'}"
      ]
     },
     "execution_count": 52,
     "metadata": {},
     "output_type": "execute_result"
    }
   ],
   "source": [
    "dic['age'] = 17\n",
    "dic"
   ]
  },
  {
   "cell_type": "code",
   "execution_count": 53,
   "metadata": {},
   "outputs": [
    {
     "name": "stdout",
     "output_type": "stream",
     "text": [
      "yagyesh\n",
      "17\n",
      "My name is yagyesh and I am 17 y/o.\n"
     ]
    }
   ],
   "source": [
    "# how to access elements inside a dictionary \n",
    "print(dic['name'])\n",
    "print(dic['age'])\n",
    "\n",
    "print('My name is {} and I am {} y/o.'.format(dic['name'] , dic['age']))"
   ]
  },
  {
   "cell_type": "code",
   "execution_count": 54,
   "metadata": {},
   "outputs": [
    {
     "name": "stdout",
     "output_type": "stream",
     "text": [
      "name yagyesh\n",
      "age 17\n",
      "hobby content creation\n"
     ]
    }
   ],
   "source": [
    "for i in dic :\n",
    "    print(i , end=' ') \n",
    "    print(dic[i])\n",
    "\n",
    "# for keys in dic.values() :\n",
    "#     print(keys)\n",
    "\n",
    "# for pair in dic.items():\n",
    "#     print(pair)\n",
    "\n",
    "# for (key, value) in dic.items() :\n",
    "#     print ('{}  => {}'.format(key,value))"
   ]
  },
  {
   "cell_type": "markdown",
   "metadata": {},
   "source": [
    "**Note** : You cannot access keys with values"
   ]
  },
  {
   "cell_type": "code",
   "execution_count": 57,
   "metadata": {},
   "outputs": [
    {
     "name": "stdout",
     "output_type": "stream",
     "text": [
      "{'item1': {'Mango': 'Tasty'}, 'item2': {'Chicken': 'Delecious'}, 'item3': {'sandwich': 'edible'}}\n",
      "{'Mango': 'Tasty'}\n",
      "Tasty\n"
     ]
    }
   ],
   "source": [
    "# Let's talk a bit about nested dictonaries \n",
    "item1 = {'Mango' : \"Tasty\"}\n",
    "item2 = {'Chicken' : 'Delecious'}\n",
    "item3 = {'sandwich': 'edible'}\n",
    "\n",
    "dict2 = {'item1' : item1, 'item2' :item2 , 'item3' : item3}\n",
    "\n",
    "print(dict2)\n",
    "\n",
    "print(dict2['item1'])\n",
    "print(dict2['item1']['Mango'])"
   ]
  },
  {
   "cell_type": "markdown",
   "metadata": {},
   "source": [
    "# Tuples\n",
    "- immutable\n",
    "- basically the same as list in other functionalities\n",
    "- represented by using curved brackets"
   ]
  },
  {
   "cell_type": "code",
   "execution_count": 58,
   "metadata": {},
   "outputs": [
    {
     "data": {
      "text/plain": [
       "tuple"
      ]
     },
     "execution_count": 58,
     "metadata": {},
     "output_type": "execute_result"
    }
   ],
   "source": [
    "a = tuple()\n",
    "type(a)"
   ]
  },
  {
   "cell_type": "code",
   "execution_count": 61,
   "metadata": {},
   "outputs": [
    {
     "name": "stdout",
     "output_type": "stream",
     "text": [
      "(1, 2, 3) <class 'tuple'>\n",
      "1\n"
     ]
    }
   ],
   "source": [
    "b = (1 , 2 ,3 )\n",
    "print(b, type(b))\n",
    "\n",
    "print(b[0])"
   ]
  },
  {
   "cell_type": "code",
   "execution_count": 65,
   "metadata": {},
   "outputs": [
    {
     "name": "stdout",
     "output_type": "stream",
     "text": [
      "1 2 3\n",
      "(1, 2, 4)\n"
     ]
    }
   ],
   "source": [
    "x, y, z = b\n",
    "\n",
    "print(x,y,z)\n",
    "z= 4\n",
    "b= (x,y,z)\n",
    "print(b)"
   ]
  },
  {
   "cell_type": "markdown",
   "metadata": {},
   "source": [
    "# Sets\n",
    "- unordered collection data types\n",
    "- iterable \n",
    "- mutable \n",
    "- represented using curly braces\n",
    "- **has no duplicate element**\n",
    "NOTE : This is based on data stucture known as hash table"
   ]
  },
  {
   "cell_type": "code",
   "execution_count": 1,
   "metadata": {},
   "outputs": [
    {
     "data": {
      "text/plain": [
       "set"
      ]
     },
     "execution_count": 1,
     "metadata": {},
     "output_type": "execute_result"
    }
   ],
   "source": [
    "set_var = set()\n",
    "type(set_var)"
   ]
  },
  {
   "cell_type": "code",
   "execution_count": 67,
   "metadata": {},
   "outputs": [
    {
     "name": "stdout",
     "output_type": "stream",
     "text": [
      "{'Hulk'}\n",
      "{1, 2, 3}\n"
     ]
    }
   ],
   "source": [
    "set_var.add('Hulk')\n",
    "print(set_var)\n",
    "\n",
    "\n",
    "set1 = { 1, 2, 3 ,3 }\n",
    "print(set1)"
   ]
  },
  {
   "cell_type": "code",
   "execution_count": 4,
   "metadata": {},
   "outputs": [],
   "source": [
    "# so i want you guys to find functions on sets yourselves and try it out"
   ]
  },
  {
   "cell_type": "markdown",
   "metadata": {},
   "source": [
    "# Fucntions "
   ]
  },
  {
   "cell_type": "markdown",
   "metadata": {},
   "source": [
    "# File i/o"
   ]
  },
  {
   "cell_type": "markdown",
   "metadata": {},
   "source": [
    "# Classes and Objects"
   ]
  },
  {
   "cell_type": "markdown",
   "metadata": {},
   "source": []
  }
 ],
 "metadata": {
  "interpreter": {
   "hash": "d461a9623ed3a469b2a5fc91391b6403bd19da617ba9e055ca6a36ceefccd292"
  },
  "kernelspec": {
   "display_name": "Python 3 (ipykernel)",
   "language": "python",
   "name": "python3"
  },
  "language_info": {
   "codemirror_mode": {
    "name": "ipython",
    "version": 3
   },
   "file_extension": ".py",
   "mimetype": "text/x-python",
   "name": "python",
   "nbconvert_exporter": "python",
   "pygments_lexer": "ipython3",
   "version": "3.9.8"
  }
 },
 "nbformat": 4,
 "nbformat_minor": 2
}
